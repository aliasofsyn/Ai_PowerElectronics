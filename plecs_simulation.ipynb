{
 "cells": [
  {
   "cell_type": "code",
   "execution_count": 1,
   "id": "5b3f863d",
   "metadata": {},
   "outputs": [],
   "source": [
    "# List values or ranges for parameters\n",
    "import random\n",
    "import numpy as np\n",
    "\n",
    "prelim = {\"Vin\": [200],\n",
    "          \"Vref\": (160, 160),\n",
    "          \"P\": (50, 1100),\n",
    "          \"D1\": np.arange(0.6, 1.01, 0.01).round(2).tolist(),\n",
    "          \"D2\": [1.0],\n",
    "         }\n",
    "\n",
    "def get_a_param_set(prelim):\n",
    "    param_set = {}\n",
    "    for key in prelim:\n",
    "        if isinstance(prelim[key], tuple):\n",
    "            # indicate a range\n",
    "            value = round(np.random.uniform(*prelim[key]), 1)\n",
    "        elif isinstance(prelim[key], list):\n",
    "            # indicate selection\n",
    "            value = np.random.choice(prelim[key])\n",
    "        param_set[key] = float(value)\n",
    "    return param_set"
   ]
  },
  {
   "cell_type": "code",
   "execution_count": null,
   "id": "48aaf36b",
   "metadata": {},
   "outputs": [],
   "source": [
    "import threading\n",
    "import numpy as np\n",
    "import xmlrpc.client\n",
    "import os\n",
    "import pandas as pd\n",
    "import csv\n",
    "import time\n",
    "import logging\n",
    "import os\n",
    "import shutil\n",
    "import func_timeout\n",
    "from func_timeout import func_set_timeout\n",
    "from tqdm import tqdm\n",
    "\n",
    "\n",
    "class PlecsThread(threading.Thread):\n",
    "    \n",
    "    opts = {'ModelVars': {'D1': 0.85, 'D2': 0.55, 'Vref': 200, 'P': 100, 'Ro': 200**2/100}}\n",
    "    \n",
    "    def __init__(self, threadID, name, model_name, result_path, num_req=1e4):\n",
    "        super(PlecsThread, self).__init__()\n",
    "        self.threadID = threadID\n",
    "        self.name = name\n",
    "        self.model_name = model_name\n",
    "        self.num_req = num_req\n",
    "        self.result_path = result_path + f\"\\\\Performance.csv\"\n",
    "        self.result_path2 = result_path + f\"\\\\Waveform\"\n",
    "        self.model_path = os.getcwd() + f\"\\\\{self.model_name}.plecs\"\n",
    "        self.to_file()\n",
    "        self.server = xmlrpc.client.Server('http://localhost:1080/RPC2\"')\n",
    "        \n",
    "    def to_file(self):\n",
    "        if not os.path.exists(self.result_path):\n",
    "            columns = \"idx Vin Vout Iload Duty_Cycle Switching_Frequency On_resistance Gate_charge Total_Gate_Resistance Inductance Series Resistance Cap\"\n",
    "            df = pd.DataFrame(columns=columns.split())\n",
    "            df.to_csv(self.result_path, index=False)\n",
    "            \n",
    "    def load(self):\n",
    "        self.server.plecs.load(self.model_path)\n",
    "    \n",
    "    def close(self):\n",
    "        self.server.plecs.close(self.model_name)\n",
    "    \n",
    "    @func_set_timeout(60*3)\n",
    "    def run_sim(self, opts):\n",
    "        self.load()\n",
    "        self.server.plecs.simulate(self.model_name, opts)\n",
    "        self.close()\n",
    "        \n",
    "    def run(self):\n",
    "        for i in tqdm(range(self.num_req)):\n",
    "            self.loop(i)\n",
    "    \n",
    "    def loop(self, i):\n",
    "        try:\n",
    "            opts0 = get_a_param_set(prelim)\n",
    "            opts = {'ModelVars': {}}\n",
    "            opts['ModelVars'].update(opts0)\n",
    "            opts['ModelVars'][\"Ro\"] = round(opts0[\"Vref\"]**2/opts0[\"P\"], 2)\n",
    "            print(opts)\n",
    "            self.run_sim(opts)\n",
    "            df = pd.read_csv(os.getcwd() + f\"\\\\Single_Sim{self.threadID}.csv\", header=None)\n",
    "            with open(self.result_path, 'a', newline='') as f: \n",
    "                csv.writer(f).writerow(np.hstack(([i], list(get_a_param_set(prelim).values()), \n",
    "                                                  df.iloc[-1, 1:].values)))\n",
    "            shutil.move(\"Single_Sim1_Wave.csv\", os.path.join(self.result_path2, f\"{i}.csv\"))\n",
    "        except Exception as e:\n",
    "            print(e)"
   ]
  },
  {
   "cell_type": "code",
   "execution_count": null,
   "id": "c8689a2e",
   "metadata": {},
   "outputs": [
    {
     "name": "stderr",
     "output_type": "stream",
     "text": [
      "<>:5: SyntaxWarning: invalid escape sequence '\\B'\n",
      "<>:5: SyntaxWarning: invalid escape sequence '\\B'\n",
      "C:\\Users\\ssefa\\AppData\\Local\\Temp\\ipykernel_69424\\308285201.py:5: SyntaxWarning: invalid escape sequence '\\B'\n",
      "  result_path = \".\\Buck_data\"\n",
      "C:\\Users\\ssefa\\AppData\\Local\\Temp\\ipykernel_69424\\308285201.py:5: SyntaxWarning: invalid escape sequence '\\B'\n",
      "  result_path = \".\\Buck_data\"\n"
     ]
    },
    {
     "ename": "NameError",
     "evalue": "name 'PlecsThread' is not defined",
     "output_type": "error",
     "traceback": [
      "\u001b[31m---------------------------------------------------------------------------\u001b[39m",
      "\u001b[31mNameError\u001b[39m                                 Traceback (most recent call last)",
      "\u001b[36mCell\u001b[39m\u001b[36m \u001b[39m\u001b[32mIn[1]\u001b[39m\u001b[32m, line 11\u001b[39m\n\u001b[32m      9\u001b[39m threads = []\n\u001b[32m     10\u001b[39m \u001b[38;5;28;01mfor\u001b[39;00m i \u001b[38;5;129;01min\u001b[39;00m \u001b[38;5;28mrange\u001b[39m(threads_num):\n\u001b[32m---> \u001b[39m\u001b[32m11\u001b[39m     thread = \u001b[43mPlecsThread\u001b[49m(i+\u001b[32m1\u001b[39m, \u001b[33mf\u001b[39m\u001b[33m\"\u001b[39m\u001b[38;5;132;01m{\u001b[39;00mi+\u001b[32m1\u001b[39m\u001b[38;5;132;01m}\u001b[39;00m\u001b[33m\"\u001b[39m, \u001b[33mf\u001b[39m\u001b[33m\"\u001b[39m\u001b[33mDAB_sample\u001b[39m\u001b[38;5;132;01m{\u001b[39;00mi+\u001b[32m1\u001b[39m\u001b[38;5;132;01m}\u001b[39;00m\u001b[33m\"\u001b[39m, result_path, num_req)\n\u001b[32m     12\u001b[39m     threads.append(thread)\n\u001b[32m     13\u001b[39m     thread.start()\n",
      "\u001b[31mNameError\u001b[39m: name 'PlecsThread' is not defined"
     ]
    }
   ],
   "source": [
    "import pandas as pd\n",
    "import datetime\n",
    "\n",
    "threads_num = 1\n",
    "result_path = \"./Buck_data\"\n",
    "num_req = 100\n",
    "\n",
    "start_time = datetime.datetime.now()\n",
    "threads = []\n",
    "for i in range(threads_num):\n",
    "    thread = PlecsThread(i+1, f\"{i+1}\", f\"DAB_sample{i+1}\", result_path, num_req)\n",
    "    threads.append(thread)\n",
    "    thread.start()\n",
    "for i in range(threads_num):\n",
    "    threads[i].join()\n"
   ]
  },
  {
   "cell_type": "code",
   "execution_count": null,
   "id": "581bd1c9",
   "metadata": {},
   "outputs": [
    {
     "ename": "Fault",
     "evalue": "<Fault -32500: \"method execution error: Model 'Buck_sample1' already loaded from different location.\">",
     "output_type": "error",
     "traceback": [
      "\u001b[31m---------------------------------------------------------------------------\u001b[39m",
      "\u001b[31mFault\u001b[39m                                     Traceback (most recent call last)",
      "\u001b[36mCell\u001b[39m\u001b[36m \u001b[39m\u001b[32mIn[2]\u001b[39m\u001b[32m, line 26\u001b[39m\n\u001b[32m     24\u001b[39m server = xmlrpc.client.Server(\u001b[33m\"\u001b[39m\u001b[33mhttp://localhost:1080/RPC2\u001b[39m\u001b[33m\"\u001b[39m)\n\u001b[32m     25\u001b[39m model_path = os.path.abspath(\u001b[33m\"\u001b[39m\u001b[33m/mnt/data/Buck_sample1.plecs\u001b[39m\u001b[33m\"\u001b[39m)\n\u001b[32m---> \u001b[39m\u001b[32m26\u001b[39m \u001b[43mserver\u001b[49m\u001b[43m.\u001b[49m\u001b[43mplecs\u001b[49m\u001b[43m.\u001b[49m\u001b[43mload\u001b[49m\u001b[43m(\u001b[49m\u001b[43mmodel_path\u001b[49m\u001b[43m)\u001b[49m\n\u001b[32m     28\u001b[39m \u001b[38;5;66;03m# Run simulations\u001b[39;00m\n\u001b[32m     29\u001b[39m results = []\n",
      "\u001b[36mFile \u001b[39m\u001b[32m~\\AppData\\Local\\Programs\\Python\\Python313\\Lib\\xmlrpc\\client.py:1096\u001b[39m, in \u001b[36m_Method.__call__\u001b[39m\u001b[34m(self, *args)\u001b[39m\n\u001b[32m   1095\u001b[39m \u001b[38;5;28;01mdef\u001b[39;00m\u001b[38;5;250m \u001b[39m\u001b[34m__call__\u001b[39m(\u001b[38;5;28mself\u001b[39m, *args):\n\u001b[32m-> \u001b[39m\u001b[32m1096\u001b[39m     \u001b[38;5;28;01mreturn\u001b[39;00m \u001b[38;5;28;43mself\u001b[39;49m\u001b[43m.\u001b[49m\u001b[43m__send\u001b[49m\u001b[43m(\u001b[49m\u001b[38;5;28;43mself\u001b[39;49m\u001b[43m.\u001b[49m\u001b[43m__name\u001b[49m\u001b[43m,\u001b[49m\u001b[43m \u001b[49m\u001b[43margs\u001b[49m\u001b[43m)\u001b[49m\n",
      "\u001b[36mFile \u001b[39m\u001b[32m~\\AppData\\Local\\Programs\\Python\\Python313\\Lib\\xmlrpc\\client.py:1435\u001b[39m, in \u001b[36mServerProxy.__request\u001b[39m\u001b[34m(self, methodname, params)\u001b[39m\n\u001b[32m   1429\u001b[39m \u001b[38;5;28;01mdef\u001b[39;00m\u001b[38;5;250m \u001b[39m\u001b[34m__request\u001b[39m(\u001b[38;5;28mself\u001b[39m, methodname, params):\n\u001b[32m   1430\u001b[39m     \u001b[38;5;66;03m# call a method on the remote server\u001b[39;00m\n\u001b[32m   1432\u001b[39m     request = dumps(params, methodname, encoding=\u001b[38;5;28mself\u001b[39m.__encoding,\n\u001b[32m   1433\u001b[39m                     allow_none=\u001b[38;5;28mself\u001b[39m.__allow_none).encode(\u001b[38;5;28mself\u001b[39m.__encoding, \u001b[33m'\u001b[39m\u001b[33mxmlcharrefreplace\u001b[39m\u001b[33m'\u001b[39m)\n\u001b[32m-> \u001b[39m\u001b[32m1435\u001b[39m     response = \u001b[38;5;28;43mself\u001b[39;49m\u001b[43m.\u001b[49m\u001b[43m__transport\u001b[49m\u001b[43m.\u001b[49m\u001b[43mrequest\u001b[49m\u001b[43m(\u001b[49m\n\u001b[32m   1436\u001b[39m \u001b[43m        \u001b[49m\u001b[38;5;28;43mself\u001b[39;49m\u001b[43m.\u001b[49m\u001b[43m__host\u001b[49m\u001b[43m,\u001b[49m\n\u001b[32m   1437\u001b[39m \u001b[43m        \u001b[49m\u001b[38;5;28;43mself\u001b[39;49m\u001b[43m.\u001b[49m\u001b[43m__handler\u001b[49m\u001b[43m,\u001b[49m\n\u001b[32m   1438\u001b[39m \u001b[43m        \u001b[49m\u001b[43mrequest\u001b[49m\u001b[43m,\u001b[49m\n\u001b[32m   1439\u001b[39m \u001b[43m        \u001b[49m\u001b[43mverbose\u001b[49m\u001b[43m=\u001b[49m\u001b[38;5;28;43mself\u001b[39;49m\u001b[43m.\u001b[49m\u001b[43m__verbose\u001b[49m\n\u001b[32m   1440\u001b[39m \u001b[43m        \u001b[49m\u001b[43m)\u001b[49m\n\u001b[32m   1442\u001b[39m     \u001b[38;5;28;01mif\u001b[39;00m \u001b[38;5;28mlen\u001b[39m(response) == \u001b[32m1\u001b[39m:\n\u001b[32m   1443\u001b[39m         response = response[\u001b[32m0\u001b[39m]\n",
      "\u001b[36mFile \u001b[39m\u001b[32m~\\AppData\\Local\\Programs\\Python\\Python313\\Lib\\xmlrpc\\client.py:1140\u001b[39m, in \u001b[36mTransport.request\u001b[39m\u001b[34m(self, host, handler, request_body, verbose)\u001b[39m\n\u001b[32m   1138\u001b[39m \u001b[38;5;28;01mfor\u001b[39;00m i \u001b[38;5;129;01min\u001b[39;00m (\u001b[32m0\u001b[39m, \u001b[32m1\u001b[39m):\n\u001b[32m   1139\u001b[39m     \u001b[38;5;28;01mtry\u001b[39;00m:\n\u001b[32m-> \u001b[39m\u001b[32m1140\u001b[39m         \u001b[38;5;28;01mreturn\u001b[39;00m \u001b[38;5;28;43mself\u001b[39;49m\u001b[43m.\u001b[49m\u001b[43msingle_request\u001b[49m\u001b[43m(\u001b[49m\u001b[43mhost\u001b[49m\u001b[43m,\u001b[49m\u001b[43m \u001b[49m\u001b[43mhandler\u001b[49m\u001b[43m,\u001b[49m\u001b[43m \u001b[49m\u001b[43mrequest_body\u001b[49m\u001b[43m,\u001b[49m\u001b[43m \u001b[49m\u001b[43mverbose\u001b[49m\u001b[43m)\u001b[49m\n\u001b[32m   1141\u001b[39m     \u001b[38;5;28;01mexcept\u001b[39;00m http.client.RemoteDisconnected:\n\u001b[32m   1142\u001b[39m         \u001b[38;5;28;01mif\u001b[39;00m i:\n",
      "\u001b[36mFile \u001b[39m\u001b[32m~\\AppData\\Local\\Programs\\Python\\Python313\\Lib\\xmlrpc\\client.py:1156\u001b[39m, in \u001b[36mTransport.single_request\u001b[39m\u001b[34m(self, host, handler, request_body, verbose)\u001b[39m\n\u001b[32m   1154\u001b[39m     \u001b[38;5;28;01mif\u001b[39;00m resp.status == \u001b[32m200\u001b[39m:\n\u001b[32m   1155\u001b[39m         \u001b[38;5;28mself\u001b[39m.verbose = verbose\n\u001b[32m-> \u001b[39m\u001b[32m1156\u001b[39m         \u001b[38;5;28;01mreturn\u001b[39;00m \u001b[38;5;28;43mself\u001b[39;49m\u001b[43m.\u001b[49m\u001b[43mparse_response\u001b[49m\u001b[43m(\u001b[49m\u001b[43mresp\u001b[49m\u001b[43m)\u001b[49m\n\u001b[32m   1158\u001b[39m \u001b[38;5;28;01mexcept\u001b[39;00m Fault:\n\u001b[32m   1159\u001b[39m     \u001b[38;5;28;01mraise\u001b[39;00m\n",
      "\u001b[36mFile \u001b[39m\u001b[32m~\\AppData\\Local\\Programs\\Python\\Python313\\Lib\\xmlrpc\\client.py:1325\u001b[39m, in \u001b[36mTransport.parse_response\u001b[39m\u001b[34m(self, response)\u001b[39m\n\u001b[32m   1322\u001b[39m     stream.close()\n\u001b[32m   1323\u001b[39m p.close()\n\u001b[32m-> \u001b[39m\u001b[32m1325\u001b[39m \u001b[38;5;28;01mreturn\u001b[39;00m \u001b[43mu\u001b[49m\u001b[43m.\u001b[49m\u001b[43mclose\u001b[49m\u001b[43m(\u001b[49m\u001b[43m)\u001b[49m\n",
      "\u001b[36mFile \u001b[39m\u001b[32m~\\AppData\\Local\\Programs\\Python\\Python313\\Lib\\xmlrpc\\client.py:642\u001b[39m, in \u001b[36mUnmarshaller.close\u001b[39m\u001b[34m(self)\u001b[39m\n\u001b[32m    640\u001b[39m     \u001b[38;5;28;01mraise\u001b[39;00m ResponseError()\n\u001b[32m    641\u001b[39m \u001b[38;5;28;01mif\u001b[39;00m \u001b[38;5;28mself\u001b[39m._type == \u001b[33m\"\u001b[39m\u001b[33mfault\u001b[39m\u001b[33m\"\u001b[39m:\n\u001b[32m--> \u001b[39m\u001b[32m642\u001b[39m     \u001b[38;5;28;01mraise\u001b[39;00m Fault(**\u001b[38;5;28mself\u001b[39m._stack[\u001b[32m0\u001b[39m])\n\u001b[32m    643\u001b[39m \u001b[38;5;28;01mreturn\u001b[39;00m \u001b[38;5;28mtuple\u001b[39m(\u001b[38;5;28mself\u001b[39m._stack)\n",
      "\u001b[31mFault\u001b[39m: <Fault -32500: \"method execution error: Model 'Buck_sample1' already loaded from different location.\">"
     ]
    }
   ],
   "source": []
  }
 ],
 "metadata": {
  "kernelspec": {
   "display_name": ".venv",
   "language": "python",
   "name": "python3"
  },
  "language_info": {
   "codemirror_mode": {
    "name": "ipython",
    "version": 3
   },
   "file_extension": ".py",
   "mimetype": "text/x-python",
   "name": "python",
   "nbconvert_exporter": "python",
   "pygments_lexer": "ipython3",
   "version": "3.13.1"
  }
 },
 "nbformat": 4,
 "nbformat_minor": 5
}
